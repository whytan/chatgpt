{
 "cells": [
  {
   "cell_type": "code",
   "execution_count": 1,
   "metadata": {},
   "outputs": [
    {
     "data": {
      "application/vnd.jupyter.widget-view+json": {
       "model_id": "ce33788b4d954681820a7af447b891c1",
       "version_major": 2,
       "version_minor": 0
      },
      "text/plain": [
       "VBox(children=(HTML(value='<center> <img\\nsrc=https://huggingface.co/front/assets/huggingface_logo-noborder.sv…"
      ]
     },
     "metadata": {},
     "output_type": "display_data"
    }
   ],
   "source": [
    "from huggingface_hub import notebook_login\n",
    "notebook_login()"
   ]
  },
  {
   "cell_type": "code",
   "execution_count": 14,
   "metadata": {},
   "outputs": [
    {
     "name": "stdout",
     "output_type": "stream",
     "text": [
      "Collecting transformers\n",
      "  Downloading transformers-4.36.2-py3-none-any.whl.metadata (126 kB)\n",
      "     ---------------------------------------- 0.0/126.8 kB ? eta -:--:--\n",
      "     ------------------ -------------------- 61.4/126.8 kB 1.7 MB/s eta 0:00:01\n",
      "     -------------------------------------- 126.8/126.8 kB 1.5 MB/s eta 0:00:00\n",
      "Requirement already satisfied: filelock in c:\\users\\t5975\\appdata\\local\\programs\\python\\python311\\lib\\site-packages (from transformers) (3.13.1)\n",
      "Requirement already satisfied: huggingface-hub<1.0,>=0.19.3 in c:\\users\\t5975\\appdata\\local\\programs\\python\\python311\\lib\\site-packages (from transformers) (0.20.2)\n",
      "Requirement already satisfied: numpy>=1.17 in c:\\users\\t5975\\appdata\\local\\programs\\python\\python311\\lib\\site-packages (from transformers) (1.25.2)\n",
      "Requirement already satisfied: packaging>=20.0 in c:\\users\\t5975\\appdata\\local\\programs\\python\\python311\\lib\\site-packages (from transformers) (23.1)\n",
      "Requirement already satisfied: pyyaml>=5.1 in c:\\users\\t5975\\appdata\\local\\programs\\python\\python311\\lib\\site-packages (from transformers) (6.0.1)\n",
      "Collecting regex!=2019.12.17 (from transformers)\n",
      "  Downloading regex-2023.12.25-cp311-cp311-win_amd64.whl.metadata (41 kB)\n",
      "     ---------------------------------------- 0.0/42.0 kB ? eta -:--:--\n",
      "     ---------------------------------------- 42.0/42.0 kB 1.0 MB/s eta 0:00:00\n",
      "Requirement already satisfied: requests in c:\\users\\t5975\\appdata\\local\\programs\\python\\python311\\lib\\site-packages (from transformers) (2.31.0)\n",
      "Collecting tokenizers<0.19,>=0.14 (from transformers)\n",
      "  Downloading tokenizers-0.15.0-cp311-none-win_amd64.whl.metadata (6.8 kB)\n",
      "Collecting safetensors>=0.3.1 (from transformers)\n",
      "  Downloading safetensors-0.4.1-cp311-none-win_amd64.whl.metadata (3.8 kB)\n",
      "Requirement already satisfied: tqdm>=4.27 in c:\\users\\t5975\\appdata\\local\\programs\\python\\python311\\lib\\site-packages (from transformers) (4.66.1)\n",
      "Requirement already satisfied: fsspec>=2023.5.0 in c:\\users\\t5975\\appdata\\local\\programs\\python\\python311\\lib\\site-packages (from huggingface-hub<1.0,>=0.19.3->transformers) (2023.12.2)\n",
      "Requirement already satisfied: typing-extensions>=3.7.4.3 in c:\\users\\t5975\\appdata\\local\\programs\\python\\python311\\lib\\site-packages (from huggingface-hub<1.0,>=0.19.3->transformers) (4.9.0)\n",
      "Requirement already satisfied: colorama in c:\\users\\t5975\\appdata\\roaming\\python\\python311\\site-packages (from tqdm>=4.27->transformers) (0.4.6)\n",
      "Requirement already satisfied: charset-normalizer<4,>=2 in c:\\users\\t5975\\appdata\\local\\programs\\python\\python311\\lib\\site-packages (from requests->transformers) (3.3.2)\n",
      "Requirement already satisfied: idna<4,>=2.5 in c:\\users\\t5975\\appdata\\local\\programs\\python\\python311\\lib\\site-packages (from requests->transformers) (3.6)\n",
      "Requirement already satisfied: urllib3<3,>=1.21.1 in c:\\users\\t5975\\appdata\\local\\programs\\python\\python311\\lib\\site-packages (from requests->transformers) (2.1.0)\n",
      "Requirement already satisfied: certifi>=2017.4.17 in c:\\users\\t5975\\appdata\\local\\programs\\python\\python311\\lib\\site-packages (from requests->transformers) (2023.11.17)\n",
      "Downloading transformers-4.36.2-py3-none-any.whl (8.2 MB)\n",
      "   ---------------------------------------- 0.0/8.2 MB ? eta -:--:--\n",
      "    --------------------------------------- 0.2/8.2 MB 3.7 MB/s eta 0:00:03\n",
      "   -- ------------------------------------- 0.4/8.2 MB 4.6 MB/s eta 0:00:02\n",
      "   --- ------------------------------------ 0.6/8.2 MB 5.1 MB/s eta 0:00:02\n",
      "   ---- ----------------------------------- 0.9/8.2 MB 4.8 MB/s eta 0:00:02\n",
      "   ----- ---------------------------------- 1.1/8.2 MB 5.1 MB/s eta 0:00:02\n",
      "   ------- -------------------------------- 1.6/8.2 MB 6.1 MB/s eta 0:00:02\n",
      "   -------- ------------------------------- 1.8/8.2 MB 5.8 MB/s eta 0:00:02\n",
      "   --------- ------------------------------ 2.0/8.2 MB 5.4 MB/s eta 0:00:02\n",
      "   ---------- ----------------------------- 2.3/8.2 MB 5.3 MB/s eta 0:00:02\n",
      "   ----------- ---------------------------- 2.4/8.2 MB 5.1 MB/s eta 0:00:02\n",
      "   ------------- -------------------------- 2.7/8.2 MB 5.2 MB/s eta 0:00:02\n",
      "   -------------- ------------------------- 3.0/8.2 MB 5.3 MB/s eta 0:00:01\n",
      "   --------------- ------------------------ 3.2/8.2 MB 5.2 MB/s eta 0:00:01\n",
      "   ---------------- ----------------------- 3.4/8.2 MB 5.1 MB/s eta 0:00:01\n",
      "   ----------------- ---------------------- 3.6/8.2 MB 4.9 MB/s eta 0:00:01\n",
      "   ------------------ --------------------- 3.8/8.2 MB 4.8 MB/s eta 0:00:01\n",
      "   ------------------- -------------------- 4.0/8.2 MB 4.9 MB/s eta 0:00:01\n",
      "   -------------------- ------------------- 4.2/8.2 MB 4.7 MB/s eta 0:00:01\n",
      "   --------------------- ------------------ 4.4/8.2 MB 4.7 MB/s eta 0:00:01\n",
      "   ----------------------- ---------------- 4.8/8.2 MB 4.9 MB/s eta 0:00:01\n",
      "   ----------------------- ---------------- 4.9/8.2 MB 4.8 MB/s eta 0:00:01\n",
      "   ------------------------ --------------- 5.0/8.2 MB 4.7 MB/s eta 0:00:01\n",
      "   ------------------------- -------------- 5.2/8.2 MB 4.7 MB/s eta 0:00:01\n",
      "   -------------------------- ------------- 5.4/8.2 MB 4.7 MB/s eta 0:00:01\n",
      "   --------------------------- ------------ 5.6/8.2 MB 4.8 MB/s eta 0:00:01\n",
      "   ----------------------------- ---------- 6.0/8.2 MB 4.8 MB/s eta 0:00:01\n",
      "   ------------------------------ --------- 6.2/8.2 MB 4.8 MB/s eta 0:00:01\n",
      "   ------------------------------ --------- 6.3/8.2 MB 4.7 MB/s eta 0:00:01\n",
      "   ------------------------------- -------- 6.6/8.2 MB 4.8 MB/s eta 0:00:01\n",
      "   -------------------------------- ------- 6.8/8.2 MB 4.8 MB/s eta 0:00:01\n",
      "   ---------------------------------- ----- 7.1/8.2 MB 4.8 MB/s eta 0:00:01\n",
      "   ----------------------------------- ---- 7.2/8.2 MB 4.7 MB/s eta 0:00:01\n",
      "   ----------------------------------- ---- 7.4/8.2 MB 4.7 MB/s eta 0:00:01\n",
      "   ------------------------------------ --- 7.5/8.2 MB 4.6 MB/s eta 0:00:01\n",
      "   ------------------------------------- -- 7.6/8.2 MB 4.5 MB/s eta 0:00:01\n",
      "   ------------------------------------- -- 7.7/8.2 MB 4.5 MB/s eta 0:00:01\n",
      "   ------------------------------------- -- 7.8/8.2 MB 4.4 MB/s eta 0:00:01\n",
      "   -------------------------------------- - 7.9/8.2 MB 4.3 MB/s eta 0:00:01\n",
      "   ---------------------------------------  8.1/8.2 MB 4.3 MB/s eta 0:00:01\n",
      "   ---------------------------------------  8.2/8.2 MB 4.3 MB/s eta 0:00:01\n",
      "   ---------------------------------------  8.2/8.2 MB 4.3 MB/s eta 0:00:01\n",
      "   ---------------------------------------- 8.2/8.2 MB 4.2 MB/s eta 0:00:00\n",
      "Downloading regex-2023.12.25-cp311-cp311-win_amd64.whl (269 kB)\n",
      "   ---------------------------------------- 0.0/269.5 kB ? eta -:--:--\n",
      "   ---------------------------------------  266.2/269.5 kB 5.4 MB/s eta 0:00:01\n",
      "   ---------------------------------------- 269.5/269.5 kB 3.3 MB/s eta 0:00:00\n",
      "Downloading safetensors-0.4.1-cp311-none-win_amd64.whl (277 kB)\n",
      "   ---------------------------------------- 0.0/277.5 kB ? eta -:--:--\n",
      "   ---------------------------------------- 277.5/277.5 kB 8.6 MB/s eta 0:00:00\n",
      "Downloading tokenizers-0.15.0-cp311-none-win_amd64.whl (2.2 MB)\n",
      "   ---------------------------------------- 0.0/2.2 MB ? eta -:--:--\n",
      "   --- ------------------------------------ 0.2/2.2 MB 3.9 MB/s eta 0:00:01\n",
      "   ------- -------------------------------- 0.4/2.2 MB 5.1 MB/s eta 0:00:01\n",
      "   ----------- ---------------------------- 0.6/2.2 MB 4.3 MB/s eta 0:00:01\n",
      "   ---------------- ----------------------- 0.9/2.2 MB 4.8 MB/s eta 0:00:01\n",
      "   ------------------ --------------------- 1.0/2.2 MB 4.7 MB/s eta 0:00:01\n",
      "   ------------------------ --------------- 1.3/2.2 MB 4.6 MB/s eta 0:00:01\n",
      "   --------------------------- ------------ 1.5/2.2 MB 4.6 MB/s eta 0:00:01\n",
      "   ------------------------------ --------- 1.7/2.2 MB 4.5 MB/s eta 0:00:01\n",
      "   -------------------------------- ------- 1.8/2.2 MB 4.4 MB/s eta 0:00:01\n",
      "   ------------------------------------- -- 2.1/2.2 MB 4.4 MB/s eta 0:00:01\n",
      "   ---------------------------------------  2.2/2.2 MB 4.4 MB/s eta 0:00:01\n",
      "   ---------------------------------------  2.2/2.2 MB 4.4 MB/s eta 0:00:01\n",
      "   ---------------------------------------- 2.2/2.2 MB 3.9 MB/s eta 0:00:00\n",
      "Installing collected packages: safetensors, regex, tokenizers, transformers\n",
      "Successfully installed regex-2023.12.25 safetensors-0.4.1 tokenizers-0.15.0 transformers-4.36.2\n"
     ]
    },
    {
     "name": "stderr",
     "output_type": "stream",
     "text": [
      "\n",
      "[notice] A new release of pip is available: 23.3.1 -> 23.3.2\n",
      "[notice] To update, run: python.exe -m pip install --upgrade pip\n"
     ]
    }
   ],
   "source": [
    "!pip install transformers"
   ]
  },
  {
   "cell_type": "code",
   "execution_count": null,
   "metadata": {},
   "outputs": [
    {
     "name": "stdout",
     "output_type": "stream",
     "text": [
      "Collecting ipywidgets\n",
      "  Downloading ipywidgets-8.1.1-py3-none-any.whl.metadata (2.4 kB)\n",
      "Requirement already satisfied: comm>=0.1.3 in c:\\users\\t5975\\appdata\\roaming\\python\\python311\\site-packages (from ipywidgets) (0.1.4)\n",
      "Requirement already satisfied: ipython>=6.1.0 in c:\\users\\t5975\\appdata\\roaming\\python\\python311\\site-packages (from ipywidgets) (8.14.0)\n",
      "Requirement already satisfied: traitlets>=4.3.1 in c:\\users\\t5975\\appdata\\roaming\\python\\python311\\site-packages (from ipywidgets) (5.9.0)\n",
      "Collecting widgetsnbextension~=4.0.9 (from ipywidgets)\n",
      "  Downloading widgetsnbextension-4.0.9-py3-none-any.whl.metadata (1.6 kB)\n",
      "Collecting jupyterlab-widgets~=3.0.9 (from ipywidgets)\n",
      "  Downloading jupyterlab_widgets-3.0.9-py3-none-any.whl.metadata (4.1 kB)\n",
      "Requirement already satisfied: backcall in c:\\users\\t5975\\appdata\\roaming\\python\\python311\\site-packages (from ipython>=6.1.0->ipywidgets) (0.2.0)\n",
      "Requirement already satisfied: decorator in c:\\users\\t5975\\appdata\\roaming\\python\\python311\\site-packages (from ipython>=6.1.0->ipywidgets) (5.1.1)\n",
      "Requirement already satisfied: jedi>=0.16 in c:\\users\\t5975\\appdata\\roaming\\python\\python311\\site-packages (from ipython>=6.1.0->ipywidgets) (0.19.0)\n",
      "Requirement already satisfied: matplotlib-inline in c:\\users\\t5975\\appdata\\roaming\\python\\python311\\site-packages (from ipython>=6.1.0->ipywidgets) (0.1.6)\n",
      "Requirement already satisfied: pickleshare in c:\\users\\t5975\\appdata\\roaming\\python\\python311\\site-packages (from ipython>=6.1.0->ipywidgets) (0.7.5)\n",
      "Requirement already satisfied: prompt-toolkit!=3.0.37,<3.1.0,>=3.0.30 in c:\\users\\t5975\\appdata\\roaming\\python\\python311\\site-packages (from ipython>=6.1.0->ipywidgets) (3.0.39)\n",
      "Requirement already satisfied: pygments>=2.4.0 in c:\\users\\t5975\\appdata\\roaming\\python\\python311\\site-packages (from ipython>=6.1.0->ipywidgets) (2.16.1)\n",
      "Requirement already satisfied: stack-data in c:\\users\\t5975\\appdata\\roaming\\python\\python311\\site-packages (from ipython>=6.1.0->ipywidgets) (0.6.2)\n",
      "Requirement already satisfied: colorama in c:\\users\\t5975\\appdata\\roaming\\python\\python311\\site-packages (from ipython>=6.1.0->ipywidgets) (0.4.6)\n",
      "Requirement already satisfied: parso<0.9.0,>=0.8.3 in c:\\users\\t5975\\appdata\\roaming\\python\\python311\\site-packages (from jedi>=0.16->ipython>=6.1.0->ipywidgets) (0.8.3)\n",
      "Requirement already satisfied: wcwidth in c:\\users\\t5975\\appdata\\roaming\\python\\python311\\site-packages (from prompt-toolkit!=3.0.37,<3.1.0,>=3.0.30->ipython>=6.1.0->ipywidgets) (0.2.6)\n",
      "Requirement already satisfied: executing>=1.2.0 in c:\\users\\t5975\\appdata\\roaming\\python\\python311\\site-packages (from stack-data->ipython>=6.1.0->ipywidgets) (1.2.0)\n",
      "Requirement already satisfied: asttokens>=2.1.0 in c:\\users\\t5975\\appdata\\roaming\\python\\python311\\site-packages (from stack-data->ipython>=6.1.0->ipywidgets) (2.2.1)\n",
      "Requirement already satisfied: pure-eval in c:\\users\\t5975\\appdata\\roaming\\python\\python311\\site-packages (from stack-data->ipython>=6.1.0->ipywidgets) (0.2.2)\n",
      "Requirement already satisfied: six in c:\\users\\t5975\\appdata\\local\\programs\\python\\python311\\lib\\site-packages (from asttokens>=2.1.0->stack-data->ipython>=6.1.0->ipywidgets) (1.16.0)\n",
      "Downloading ipywidgets-8.1.1-py3-none-any.whl (139 kB)\n",
      "   ---------------------------------------- 0.0/139.4 kB ? eta -:--:--\n",
      "   -------------------------------------- - 133.1/139.4 kB 3.8 MB/s eta 0:00:01\n",
      "   ---------------------------------------- 139.4/139.4 kB 2.7 MB/s eta 0:00:00\n",
      "Downloading jupyterlab_widgets-3.0.9-py3-none-any.whl (214 kB)\n",
      "   ---------------------------------------- 0.0/214.9 kB ? eta -:--:--\n",
      "   ----------- ---------------------------- 61.4/214.9 kB 3.2 MB/s eta 0:00:01\n",
      "   -------------------------------------- - 204.8/214.9 kB 4.1 MB/s eta 0:00:01\n",
      "   ---------------------------------------- 214.9/214.9 kB 3.2 MB/s eta 0:00:00\n",
      "Downloading widgetsnbextension-4.0.9-py3-none-any.whl (2.3 MB)\n",
      "   ---------------------------------------- 0.0/2.3 MB ? eta -:--:--\n",
      "   ---- ----------------------------------- 0.2/2.3 MB 4.8 MB/s eta 0:00:01\n",
      "   ------ --------------------------------- 0.4/2.3 MB 5.0 MB/s eta 0:00:01\n",
      "   ------------ --------------------------- 0.7/2.3 MB 6.3 MB/s eta 0:00:01\n",
      "   ---------------- ----------------------- 1.0/2.3 MB 5.5 MB/s eta 0:00:01\n",
      "   ---------------------- ----------------- 1.3/2.3 MB 5.8 MB/s eta 0:00:01\n",
      "   -------------------------- ------------- 1.5/2.3 MB 5.6 MB/s eta 0:00:01\n",
      "   ------------------------------- -------- 1.8/2.3 MB 5.5 MB/s eta 0:00:01\n",
      "   ---------------------------------- ----- 2.0/2.3 MB 5.2 MB/s eta 0:00:01\n",
      "   ------------------------------------- -- 2.2/2.3 MB 5.3 MB/s eta 0:00:01\n",
      "   ---------------------------------------- 2.3/2.3 MB 4.9 MB/s eta 0:00:00\n",
      "Installing collected packages: widgetsnbextension, jupyterlab-widgets, ipywidgets\n",
      "Successfully installed ipywidgets-8.1.1 jupyterlab-widgets-3.0.9 widgetsnbextension-4.0.9\n",
      "Note: you may need to restart the kernel to use updated packages.\n"
     ]
    },
    {
     "name": "stderr",
     "output_type": "stream",
     "text": [
      "\n",
      "[notice] A new release of pip is available: 23.3.1 -> 23.3.2\n",
      "[notice] To update, run: python.exe -m pip install --upgrade pip\n"
     ]
    }
   ],
   "source": [
    "pip install ipywidgets"
   ]
  }
 ],
 "metadata": {
  "kernelspec": {
   "display_name": "Python 3",
   "language": "python",
   "name": "python3"
  },
  "language_info": {
   "codemirror_mode": {
    "name": "ipython",
    "version": 3
   },
   "file_extension": ".py",
   "mimetype": "text/x-python",
   "name": "python",
   "nbconvert_exporter": "python",
   "pygments_lexer": "ipython3",
   "version": "3.11.5"
  }
 },
 "nbformat": 4,
 "nbformat_minor": 2
}
